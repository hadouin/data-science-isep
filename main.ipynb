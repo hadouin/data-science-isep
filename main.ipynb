{
 "cells": [
  {
   "cell_type": "code",
   "execution_count": 1,
   "metadata": {},
   "outputs": [
    {
     "data": {
      "text/plain": [
       "'1.5.3'"
      ]
     },
     "execution_count": 1,
     "metadata": {},
     "output_type": "execute_result"
    }
   ],
   "source": [
    "import pandas as pd\n",
    "pd.__version__"
   ]
  },
  {
   "cell_type": "code",
   "execution_count": 5,
   "metadata": {},
   "outputs": [
    {
     "data": {
      "text/html": [
       "<div>\n",
       "<style scoped>\n",
       "    .dataframe tbody tr th:only-of-type {\n",
       "        vertical-align: middle;\n",
       "    }\n",
       "\n",
       "    .dataframe tbody tr th {\n",
       "        vertical-align: top;\n",
       "    }\n",
       "\n",
       "    .dataframe thead th {\n",
       "        text-align: right;\n",
       "    }\n",
       "</style>\n",
       "<table border=\"1\" class=\"dataframe\">\n",
       "  <thead>\n",
       "    <tr style=\"text-align: right;\">\n",
       "      <th></th>\n",
       "      <th>Mois</th>\n",
       "      <th>Accenteur mouchet</th>\n",
       "      <th>Corneille noire</th>\n",
       "      <th>Fauvette à tête noire</th>\n",
       "      <th>Geai des chênes</th>\n",
       "      <th>Goéland argenté</th>\n",
       "      <th>Grimpereau des jardins</th>\n",
       "      <th>Grive musicienne</th>\n",
       "      <th>Merle noir</th>\n",
       "      <th>Mésange bleue</th>\n",
       "      <th>...</th>\n",
       "      <th>Pigeon biset</th>\n",
       "      <th>Pigeon ramier</th>\n",
       "      <th>Pinson des arbres</th>\n",
       "      <th>Pouillot véloce</th>\n",
       "      <th>Roitelet huppé</th>\n",
       "      <th>Roitelet à triple bandeau</th>\n",
       "      <th>Rougegorge familier</th>\n",
       "      <th>Sittelle torchepot</th>\n",
       "      <th>Troglodyte mignon</th>\n",
       "      <th>Étourneau sansonnet</th>\n",
       "    </tr>\n",
       "  </thead>\n",
       "  <tbody>\n",
       "    <tr>\n",
       "      <th>0</th>\n",
       "      <td>janvier</td>\n",
       "      <td>1</td>\n",
       "      <td>22</td>\n",
       "      <td>0</td>\n",
       "      <td>4</td>\n",
       "      <td>0</td>\n",
       "      <td>3</td>\n",
       "      <td>1</td>\n",
       "      <td>22</td>\n",
       "      <td>16</td>\n",
       "      <td>...</td>\n",
       "      <td>1</td>\n",
       "      <td>37</td>\n",
       "      <td>3</td>\n",
       "      <td>0</td>\n",
       "      <td>4</td>\n",
       "      <td>0</td>\n",
       "      <td>14</td>\n",
       "      <td>0</td>\n",
       "      <td>5</td>\n",
       "      <td>33</td>\n",
       "    </tr>\n",
       "    <tr>\n",
       "      <th>1</th>\n",
       "      <td>fevrier</td>\n",
       "      <td>1</td>\n",
       "      <td>9</td>\n",
       "      <td>0</td>\n",
       "      <td>3</td>\n",
       "      <td>0</td>\n",
       "      <td>4</td>\n",
       "      <td>1</td>\n",
       "      <td>13</td>\n",
       "      <td>7</td>\n",
       "      <td>...</td>\n",
       "      <td>1</td>\n",
       "      <td>8</td>\n",
       "      <td>3</td>\n",
       "      <td>1</td>\n",
       "      <td>2</td>\n",
       "      <td>0</td>\n",
       "      <td>6</td>\n",
       "      <td>2</td>\n",
       "      <td>4</td>\n",
       "      <td>7</td>\n",
       "    </tr>\n",
       "    <tr>\n",
       "      <th>2</th>\n",
       "      <td>mars</td>\n",
       "      <td>0</td>\n",
       "      <td>25</td>\n",
       "      <td>6</td>\n",
       "      <td>2</td>\n",
       "      <td>1</td>\n",
       "      <td>7</td>\n",
       "      <td>3</td>\n",
       "      <td>24</td>\n",
       "      <td>16</td>\n",
       "      <td>...</td>\n",
       "      <td>17</td>\n",
       "      <td>24</td>\n",
       "      <td>11</td>\n",
       "      <td>3</td>\n",
       "      <td>1</td>\n",
       "      <td>2</td>\n",
       "      <td>9</td>\n",
       "      <td>2</td>\n",
       "      <td>10</td>\n",
       "      <td>16</td>\n",
       "    </tr>\n",
       "    <tr>\n",
       "      <th>3</th>\n",
       "      <td>avril</td>\n",
       "      <td>3</td>\n",
       "      <td>7</td>\n",
       "      <td>8</td>\n",
       "      <td>2</td>\n",
       "      <td>0</td>\n",
       "      <td>2</td>\n",
       "      <td>0</td>\n",
       "      <td>12</td>\n",
       "      <td>7</td>\n",
       "      <td>...</td>\n",
       "      <td>3</td>\n",
       "      <td>10</td>\n",
       "      <td>3</td>\n",
       "      <td>2</td>\n",
       "      <td>0</td>\n",
       "      <td>1</td>\n",
       "      <td>1</td>\n",
       "      <td>0</td>\n",
       "      <td>5</td>\n",
       "      <td>35</td>\n",
       "    </tr>\n",
       "    <tr>\n",
       "      <th>4</th>\n",
       "      <td>mai</td>\n",
       "      <td>0</td>\n",
       "      <td>7</td>\n",
       "      <td>10</td>\n",
       "      <td>1</td>\n",
       "      <td>0</td>\n",
       "      <td>5</td>\n",
       "      <td>0</td>\n",
       "      <td>24</td>\n",
       "      <td>4</td>\n",
       "      <td>...</td>\n",
       "      <td>8</td>\n",
       "      <td>9</td>\n",
       "      <td>6</td>\n",
       "      <td>4</td>\n",
       "      <td>0</td>\n",
       "      <td>0</td>\n",
       "      <td>11</td>\n",
       "      <td>0</td>\n",
       "      <td>7</td>\n",
       "      <td>48</td>\n",
       "    </tr>\n",
       "    <tr>\n",
       "      <th>5</th>\n",
       "      <td>juin</td>\n",
       "      <td>0</td>\n",
       "      <td>15</td>\n",
       "      <td>11</td>\n",
       "      <td>1</td>\n",
       "      <td>0</td>\n",
       "      <td>5</td>\n",
       "      <td>0</td>\n",
       "      <td>23</td>\n",
       "      <td>8</td>\n",
       "      <td>...</td>\n",
       "      <td>3</td>\n",
       "      <td>25</td>\n",
       "      <td>5</td>\n",
       "      <td>2</td>\n",
       "      <td>6</td>\n",
       "      <td>0</td>\n",
       "      <td>11</td>\n",
       "      <td>0</td>\n",
       "      <td>12</td>\n",
       "      <td>75</td>\n",
       "    </tr>\n",
       "    <tr>\n",
       "      <th>6</th>\n",
       "      <td>juillet</td>\n",
       "      <td>0</td>\n",
       "      <td>10</td>\n",
       "      <td>3</td>\n",
       "      <td>2</td>\n",
       "      <td>0</td>\n",
       "      <td>5</td>\n",
       "      <td>0</td>\n",
       "      <td>11</td>\n",
       "      <td>6</td>\n",
       "      <td>...</td>\n",
       "      <td>4</td>\n",
       "      <td>13</td>\n",
       "      <td>3</td>\n",
       "      <td>1</td>\n",
       "      <td>4</td>\n",
       "      <td>0</td>\n",
       "      <td>4</td>\n",
       "      <td>0</td>\n",
       "      <td>2</td>\n",
       "      <td>2</td>\n",
       "    </tr>\n",
       "    <tr>\n",
       "      <th>7</th>\n",
       "      <td>aout</td>\n",
       "      <td>6</td>\n",
       "      <td>21</td>\n",
       "      <td>1</td>\n",
       "      <td>1</td>\n",
       "      <td>0</td>\n",
       "      <td>2</td>\n",
       "      <td>0</td>\n",
       "      <td>17</td>\n",
       "      <td>10</td>\n",
       "      <td>...</td>\n",
       "      <td>7</td>\n",
       "      <td>14</td>\n",
       "      <td>0</td>\n",
       "      <td>1</td>\n",
       "      <td>0</td>\n",
       "      <td>0</td>\n",
       "      <td>10</td>\n",
       "      <td>0</td>\n",
       "      <td>5</td>\n",
       "      <td>0</td>\n",
       "    </tr>\n",
       "    <tr>\n",
       "      <th>8</th>\n",
       "      <td>septembre</td>\n",
       "      <td>2</td>\n",
       "      <td>15</td>\n",
       "      <td>1</td>\n",
       "      <td>1</td>\n",
       "      <td>0</td>\n",
       "      <td>5</td>\n",
       "      <td>0</td>\n",
       "      <td>10</td>\n",
       "      <td>11</td>\n",
       "      <td>...</td>\n",
       "      <td>2</td>\n",
       "      <td>32</td>\n",
       "      <td>1</td>\n",
       "      <td>0</td>\n",
       "      <td>0</td>\n",
       "      <td>5</td>\n",
       "      <td>12</td>\n",
       "      <td>3</td>\n",
       "      <td>5</td>\n",
       "      <td>0</td>\n",
       "    </tr>\n",
       "    <tr>\n",
       "      <th>9</th>\n",
       "      <td>octobre</td>\n",
       "      <td>0</td>\n",
       "      <td>6</td>\n",
       "      <td>0</td>\n",
       "      <td>1</td>\n",
       "      <td>0</td>\n",
       "      <td>1</td>\n",
       "      <td>1</td>\n",
       "      <td>4</td>\n",
       "      <td>4</td>\n",
       "      <td>...</td>\n",
       "      <td>1</td>\n",
       "      <td>34</td>\n",
       "      <td>0</td>\n",
       "      <td>0</td>\n",
       "      <td>0</td>\n",
       "      <td>2</td>\n",
       "      <td>6</td>\n",
       "      <td>2</td>\n",
       "      <td>1</td>\n",
       "      <td>0</td>\n",
       "    </tr>\n",
       "    <tr>\n",
       "      <th>10</th>\n",
       "      <td>novembre</td>\n",
       "      <td>1</td>\n",
       "      <td>19</td>\n",
       "      <td>1</td>\n",
       "      <td>6</td>\n",
       "      <td>0</td>\n",
       "      <td>4</td>\n",
       "      <td>0</td>\n",
       "      <td>16</td>\n",
       "      <td>6</td>\n",
       "      <td>...</td>\n",
       "      <td>11</td>\n",
       "      <td>20</td>\n",
       "      <td>4</td>\n",
       "      <td>0</td>\n",
       "      <td>0</td>\n",
       "      <td>5</td>\n",
       "      <td>16</td>\n",
       "      <td>3</td>\n",
       "      <td>4</td>\n",
       "      <td>10</td>\n",
       "    </tr>\n",
       "    <tr>\n",
       "      <th>11</th>\n",
       "      <td>decembre</td>\n",
       "      <td>0</td>\n",
       "      <td>5</td>\n",
       "      <td>0</td>\n",
       "      <td>1</td>\n",
       "      <td>0</td>\n",
       "      <td>1</td>\n",
       "      <td>0</td>\n",
       "      <td>3</td>\n",
       "      <td>5</td>\n",
       "      <td>...</td>\n",
       "      <td>5</td>\n",
       "      <td>6</td>\n",
       "      <td>0</td>\n",
       "      <td>0</td>\n",
       "      <td>0</td>\n",
       "      <td>0</td>\n",
       "      <td>2</td>\n",
       "      <td>0</td>\n",
       "      <td>1</td>\n",
       "      <td>5</td>\n",
       "    </tr>\n",
       "  </tbody>\n",
       "</table>\n",
       "<p>12 rows × 28 columns</p>\n",
       "</div>"
      ],
      "text/plain": [
       "         Mois  Accenteur mouchet  Corneille noire  Fauvette à tête noire  \\\n",
       "0     janvier                  1               22                      0   \n",
       "1     fevrier                  1                9                      0   \n",
       "2        mars                  0               25                      6   \n",
       "3       avril                  3                7                      8   \n",
       "4         mai                  0                7                     10   \n",
       "5        juin                  0               15                     11   \n",
       "6     juillet                  0               10                      3   \n",
       "7        aout                  6               21                      1   \n",
       "8   septembre                  2               15                      1   \n",
       "9     octobre                  0                6                      0   \n",
       "10   novembre                  1               19                      1   \n",
       "11   decembre                  0                5                      0   \n",
       "\n",
       "    Geai des chênes  Goéland argenté  Grimpereau des jardins  \\\n",
       "0                 4                0                       3   \n",
       "1                 3                0                       4   \n",
       "2                 2                1                       7   \n",
       "3                 2                0                       2   \n",
       "4                 1                0                       5   \n",
       "5                 1                0                       5   \n",
       "6                 2                0                       5   \n",
       "7                 1                0                       2   \n",
       "8                 1                0                       5   \n",
       "9                 1                0                       1   \n",
       "10                6                0                       4   \n",
       "11                1                0                       1   \n",
       "\n",
       "    Grive musicienne  Merle noir  Mésange bleue  ...  Pigeon biset  \\\n",
       "0                  1          22             16  ...             1   \n",
       "1                  1          13              7  ...             1   \n",
       "2                  3          24             16  ...            17   \n",
       "3                  0          12              7  ...             3   \n",
       "4                  0          24              4  ...             8   \n",
       "5                  0          23              8  ...             3   \n",
       "6                  0          11              6  ...             4   \n",
       "7                  0          17             10  ...             7   \n",
       "8                  0          10             11  ...             2   \n",
       "9                  1           4              4  ...             1   \n",
       "10                 0          16              6  ...            11   \n",
       "11                 0           3              5  ...             5   \n",
       "\n",
       "    Pigeon ramier  Pinson des arbres  Pouillot véloce  Roitelet huppé  \\\n",
       "0              37                  3                0               4   \n",
       "1               8                  3                1               2   \n",
       "2              24                 11                3               1   \n",
       "3              10                  3                2               0   \n",
       "4               9                  6                4               0   \n",
       "5              25                  5                2               6   \n",
       "6              13                  3                1               4   \n",
       "7              14                  0                1               0   \n",
       "8              32                  1                0               0   \n",
       "9              34                  0                0               0   \n",
       "10             20                  4                0               0   \n",
       "11              6                  0                0               0   \n",
       "\n",
       "    Roitelet à triple bandeau  Rougegorge familier  Sittelle torchepot  \\\n",
       "0                           0                   14                   0   \n",
       "1                           0                    6                   2   \n",
       "2                           2                    9                   2   \n",
       "3                           1                    1                   0   \n",
       "4                           0                   11                   0   \n",
       "5                           0                   11                   0   \n",
       "6                           0                    4                   0   \n",
       "7                           0                   10                   0   \n",
       "8                           5                   12                   3   \n",
       "9                           2                    6                   2   \n",
       "10                          5                   16                   3   \n",
       "11                          0                    2                   0   \n",
       "\n",
       "    Troglodyte mignon  Étourneau sansonnet  \n",
       "0                   5                   33  \n",
       "1                   4                    7  \n",
       "2                  10                   16  \n",
       "3                   5                   35  \n",
       "4                   7                   48  \n",
       "5                  12                   75  \n",
       "6                   2                    2  \n",
       "7                   5                    0  \n",
       "8                   5                    0  \n",
       "9                   1                    0  \n",
       "10                  4                   10  \n",
       "11                  1                    5  \n",
       "\n",
       "[12 rows x 28 columns]"
      ]
     },
     "execution_count": 5,
     "metadata": {},
     "output_type": "execute_result"
    }
   ],
   "source": [
    "data = pd.read_csv('data.csv')\n",
    "data"
   ]
  },
  {
   "attachments": {},
   "cell_type": "markdown",
   "metadata": {},
   "source": [
    "## Analyse préliminaire"
   ]
  },
  {
   "cell_type": "code",
   "execution_count": 14,
   "metadata": {},
   "outputs": [
    {
     "name": "stdout",
     "output_type": "stream",
     "text": [
      "Nombre total d'individus:  1672\n"
     ]
    }
   ],
   "source": [
    "# Combien d'individus toute espèce confondue ont été observés dans le parc ?\n",
    "total_individuals = data.sum(numeric_only=True).sum() #numeric only permet d'exclure la colonne des mois\n",
    "print(\"Nombre total d'individus: \", total_individuals)"
   ]
  },
  {
   "cell_type": "code",
   "execution_count": 20,
   "metadata": {},
   "outputs": [
    {
     "name": "stdout",
     "output_type": "stream",
     "text": [
      "Espece la plus observée:  Pigeon ramier avec  232 individus\n"
     ]
    }
   ],
   "source": [
    "# Quelle espèce a été la plus observée dans l’année\n",
    "max_individuals = data.sum(numeric_only=True).max()\n",
    "max_individuals_species = data.sum(numeric_only=True).idxmax()\n",
    "print(\"Espèce la plus observée: \", max_individuals_species, \"avec \", max_individuals, \"individus\")"
   ]
  },
  {
   "cell_type": "code",
   "execution_count": 19,
   "metadata": {},
   "outputs": [
    {
     "name": "stdout",
     "output_type": "stream",
     "text": [
      "Espece la moins observée:  Goéland argenté avec  1 individus\n"
     ]
    }
   ],
   "source": [
    "#  Quelle espèce a été la moins observée dans l’année\n",
    "min_individuals = data.sum(numeric_only=True).min()\n",
    "min_individuals_species = data.sum(numeric_only=True).idxmin()\n",
    "print(\"Espèce la moins observée: \", min_individuals_species, \"avec \", min_individuals, \"individus\")"
   ]
  },
  {
   "attachments": {},
   "cell_type": "markdown",
   "metadata": {},
   "source": [
    "### Espèces absentes\n",
    "On remarques que des valeurs sont égales à zero pour certaines espèces. \n",
    "On en déduit que ces espèces n'ont pas été observées assez souvent pour représenter un intérêt pour l'analyse.\n",
    "On va donc les supprimer du dataset."
   ]
  },
  {
   "cell_type": "code",
   "execution_count": 64,
   "metadata": {},
   "outputs": [
    {
     "name": "stdout",
     "output_type": "stream",
     "text": [
      "15  Colonnes supprimées : ['Accenteur mouchet', 'Fauvette à tête noire', 'Goéland argenté', 'Grive musicienne', 'Mésange huppée', 'Mésange noire', 'Mésange à longue queue', 'Pic vert', 'Pic épeiche', 'Pinson des arbres', 'Pouillot véloce', 'Roitelet huppé', 'Roitelet à triple bandeau', 'Sittelle torchepot', 'Étourneau sansonnet']\n"
     ]
    }
   ],
   "source": [
    "# Supprimer les colonnes qui contiennent zéro\n",
    "colonnes_supprimees = data.columns[data.eq(0).any()]\n",
    "data_sans_zeros = data.drop(colonnes_supprimees, axis=1)\n",
    "\n",
    "# Afficher les noms des colonnes supprimées\n",
    "noms_colonnes_supprimees = colonnes_supprimees.tolist()\n",
    "print(len(noms_colonnes_supprimees), \" Colonnes supprimées :\", noms_colonnes_supprimees)"
   ]
  },
  {
   "attachments": {},
   "cell_type": "markdown",
   "metadata": {},
   "source": [
    "### Analyse des éspèces significatives\n",
    "Après avoir supprimé les espèces on va pouvoir analyser les espèces qui sont significatives. En commencant par la variance des espèces."
   ]
  },
  {
   "cell_type": "code",
   "execution_count": 67,
   "metadata": {},
   "outputs": [
    {
     "name": "stdout",
     "output_type": "stream",
     "text": [
      "Variance pour chaque espèce:\n",
      " Corneille noire            49.174242\n",
      "Geai des chênes             2.446970\n",
      "Grimpereau des jardins      3.515152\n",
      "Merle noir                 54.446970\n",
      "Mésange bleue              17.333333\n",
      "Mésange charbonnière       31.696970\n",
      "Perruche à collier         30.568182\n",
      "Pie bavarde                21.295455\n",
      "Pigeon biset               23.477273\n",
      "Pigeon ramier             119.151515\n",
      "Rougegorge familier        22.272727\n",
      "Troglodyte mignon          10.992424\n",
      "dtype: float64\n"
     ]
    }
   ],
   "source": [
    "# Calculer la variance pour chaque espèce\n",
    "variance = data_sans_zeros.var(numeric_only=True)\n",
    "print(\"Variance pour chaque espèce:\\n\", variance)"
   ]
  },
  {
   "cell_type": "code",
   "execution_count": 71,
   "metadata": {},
   "outputs": [
    {
     "name": "stdout",
     "output_type": "stream",
     "text": [
      "Espèce avec la plus grande variance:  Pigeon ramier avec 119.152 de variance\n"
     ]
    }
   ],
   "source": [
    "# Quelle est l'éspèce qui a la plus grande variance ?\n",
    "max_variance = variance.max()\n",
    "max_variance_species = variance.idxmax()\n",
    "print(\"Espèce avec la plus grande variance: \", max_variance_species, \"avec {0:.3f}\".format(max_variance), \"de variance\")"
   ]
  },
  {
   "cell_type": "code",
   "execution_count": 72,
   "metadata": {},
   "outputs": [
    {
     "name": "stdout",
     "output_type": "stream",
     "text": [
      "Espèce avec la plus petite variance:  Geai des chênes avec 2.447 de variance\n"
     ]
    }
   ],
   "source": [
    "# Quelle est l'éspèce qui a la plus petite variance ?\n",
    "min_variance = variance.min()\n",
    "min_variance_species = variance.idxmin()\n",
    "print(\"Espèce avec la plus petite variance: \", min_variance_species, \"avec {0:.3f}\".format(min_variance), \"de variance\")"
   ]
  },
  {
   "attachments": {},
   "cell_type": "markdown",
   "metadata": {},
   "source": [
    "### Étude particulière des perruches à collier."
   ]
  },
  {
   "cell_type": "code",
   "execution_count": 77,
   "metadata": {},
   "outputs": [
    {
     "data": {
      "text/html": [
       "<div>\n",
       "<style scoped>\n",
       "    .dataframe tbody tr th:only-of-type {\n",
       "        vertical-align: middle;\n",
       "    }\n",
       "\n",
       "    .dataframe tbody tr th {\n",
       "        vertical-align: top;\n",
       "    }\n",
       "\n",
       "    .dataframe thead th {\n",
       "        text-align: right;\n",
       "    }\n",
       "</style>\n",
       "<table border=\"1\" class=\"dataframe\">\n",
       "  <thead>\n",
       "    <tr style=\"text-align: right;\">\n",
       "      <th></th>\n",
       "      <th>Mois</th>\n",
       "      <th>Perruche à collier</th>\n",
       "    </tr>\n",
       "  </thead>\n",
       "  <tbody>\n",
       "    <tr>\n",
       "      <th>0</th>\n",
       "      <td>janvier</td>\n",
       "      <td>18</td>\n",
       "    </tr>\n",
       "    <tr>\n",
       "      <th>1</th>\n",
       "      <td>fevrier</td>\n",
       "      <td>2</td>\n",
       "    </tr>\n",
       "    <tr>\n",
       "      <th>2</th>\n",
       "      <td>mars</td>\n",
       "      <td>16</td>\n",
       "    </tr>\n",
       "    <tr>\n",
       "      <th>3</th>\n",
       "      <td>avril</td>\n",
       "      <td>7</td>\n",
       "    </tr>\n",
       "    <tr>\n",
       "      <th>4</th>\n",
       "      <td>mai</td>\n",
       "      <td>9</td>\n",
       "    </tr>\n",
       "    <tr>\n",
       "      <th>5</th>\n",
       "      <td>juin</td>\n",
       "      <td>13</td>\n",
       "    </tr>\n",
       "    <tr>\n",
       "      <th>6</th>\n",
       "      <td>juillet</td>\n",
       "      <td>4</td>\n",
       "    </tr>\n",
       "    <tr>\n",
       "      <th>7</th>\n",
       "      <td>aout</td>\n",
       "      <td>2</td>\n",
       "    </tr>\n",
       "    <tr>\n",
       "      <th>8</th>\n",
       "      <td>septembre</td>\n",
       "      <td>12</td>\n",
       "    </tr>\n",
       "    <tr>\n",
       "      <th>9</th>\n",
       "      <td>octobre</td>\n",
       "      <td>4</td>\n",
       "    </tr>\n",
       "    <tr>\n",
       "      <th>10</th>\n",
       "      <td>novembre</td>\n",
       "      <td>9</td>\n",
       "    </tr>\n",
       "    <tr>\n",
       "      <th>11</th>\n",
       "      <td>decembre</td>\n",
       "      <td>3</td>\n",
       "    </tr>\n",
       "  </tbody>\n",
       "</table>\n",
       "</div>"
      ],
      "text/plain": [
       "         Mois  Perruche à collier\n",
       "0     janvier                  18\n",
       "1     fevrier                   2\n",
       "2        mars                  16\n",
       "3       avril                   7\n",
       "4         mai                   9\n",
       "5        juin                  13\n",
       "6     juillet                   4\n",
       "7        aout                   2\n",
       "8   septembre                  12\n",
       "9     octobre                   4\n",
       "10   novembre                   9\n",
       "11   decembre                   3"
      ]
     },
     "execution_count": 77,
     "metadata": {},
     "output_type": "execute_result"
    }
   ],
   "source": [
    "# Extraire les stats pour les peruches\n",
    "observation_perruches = data[['Mois', 'Perruche à collier']]\n",
    "observation_perruches"
   ]
  },
  {
   "cell_type": "code",
   "execution_count": 81,
   "metadata": {},
   "outputs": [
    {
     "data": {
      "text/html": [
       "<div>\n",
       "<style scoped>\n",
       "    .dataframe tbody tr th:only-of-type {\n",
       "        vertical-align: middle;\n",
       "    }\n",
       "\n",
       "    .dataframe tbody tr th {\n",
       "        vertical-align: top;\n",
       "    }\n",
       "\n",
       "    .dataframe thead th {\n",
       "        text-align: right;\n",
       "    }\n",
       "</style>\n",
       "<table border=\"1\" class=\"dataframe\">\n",
       "  <thead>\n",
       "    <tr style=\"text-align: right;\">\n",
       "      <th></th>\n",
       "      <th>Perruche à collier</th>\n",
       "    </tr>\n",
       "  </thead>\n",
       "  <tbody>\n",
       "    <tr>\n",
       "      <th>count</th>\n",
       "      <td>12.00000</td>\n",
       "    </tr>\n",
       "    <tr>\n",
       "      <th>mean</th>\n",
       "      <td>8.25000</td>\n",
       "    </tr>\n",
       "    <tr>\n",
       "      <th>std</th>\n",
       "      <td>5.52885</td>\n",
       "    </tr>\n",
       "    <tr>\n",
       "      <th>min</th>\n",
       "      <td>2.00000</td>\n",
       "    </tr>\n",
       "    <tr>\n",
       "      <th>25%</th>\n",
       "      <td>3.75000</td>\n",
       "    </tr>\n",
       "    <tr>\n",
       "      <th>50%</th>\n",
       "      <td>8.00000</td>\n",
       "    </tr>\n",
       "    <tr>\n",
       "      <th>75%</th>\n",
       "      <td>12.25000</td>\n",
       "    </tr>\n",
       "    <tr>\n",
       "      <th>max</th>\n",
       "      <td>18.00000</td>\n",
       "    </tr>\n",
       "  </tbody>\n",
       "</table>\n",
       "</div>"
      ],
      "text/plain": [
       "       Perruche à collier\n",
       "count            12.00000\n",
       "mean              8.25000\n",
       "std               5.52885\n",
       "min               2.00000\n",
       "25%               3.75000\n",
       "50%               8.00000\n",
       "75%              12.25000\n",
       "max              18.00000"
      ]
     },
     "execution_count": 81,
     "metadata": {},
     "output_type": "execute_result"
    },
    {
     "data": {
      "image/png": "[encoded data removed]",
      "text/plain": [
       "<Figure size 432x288 with 1 Axes>"
      ]
     },
     "metadata": {
      "needs_background": "light"
     },
     "output_type": "display_data"
    }
   ],
   "source": [
    "# boxplot\n",
    "observation_perruches.boxplot()\n",
    "observation_perruches.describe()"
   ]
  },
  {
   "attachments": {},
   "cell_type": "markdown",
   "metadata": {},
   "source": [
    "TODO: Commentaires sur l'histogramme des perruches à collier."
   ]
  },
  {
   "cell_type": "code",
   "execution_count": 122,
   "metadata": {},
   "outputs": [
    {
     "name": "stderr",
     "output_type": "stream",
     "text": [
      "C:\\Users\\Hadouin\\AppData\\Local\\Temp\\ipykernel_27800\\2328313217.py:4: FutureWarning: Dropping of nuisance columns in DataFrame reductions (with 'numeric_only=None') is deprecated; in a future version this will raise TypeError.  Select only valid columns before calling the reduction.\n",
      "  moyenne_par_mois = data_sans_perruches.mean(axis=1)\n"
     ]
    },
    {
     "data": {
      "text/plain": [
       "<Axes: xlabel='Mois'>"
      ]
     },
     "execution_count": 122,
     "metadata": {},
     "output_type": "execute_result"
    },
    {
     "data": {
      "image/png": "[encoded data removed]",
      "text/plain": [
       "<Figure size 432x288 with 1 Axes>"
      ]
     },
     "metadata": {
      "needs_background": "light"
     },
     "output_type": "display_data"
    }
   ],
   "source": [
    "# On supprime la colonne des perruches à collier\n",
    "data_sans_perruches = data_sans_zeros.drop(['Perruche à collier'], axis=1)\n",
    "# On calcule la moyenne par mois\n",
    "moyenne_par_mois = data_sans_perruches.mean(axis=1)\n",
    "moyenne_par_mois.name = 'Moyenne générale'\n",
    "\n",
    "# Plot de la moyenne générale par mois\n",
    "moyenne_par_mois.plot()"
   ]
  },
  {
   "cell_type": "code",
   "execution_count": 124,
   "metadata": {},
   "outputs": [
    {
     "data": {
      "text/plain": [
       "<Axes: xlabel='Mois'>"
      ]
     },
     "execution_count": 124,
     "metadata": {},
     "output_type": "execute_result"
    },
    {
     "data": {
      "image/png": "[encoded data removed]",
      "text/plain": [
       "<Figure size 432x288 with 1 Axes>"
      ]
     },
     "metadata": {
      "needs_background": "light"
     },
     "output_type": "display_data"
    },
    {
     "data": {
      "image/png": "[encoded data removed]",
      "text/plain": [
       "<Figure size 432x288 with 1 Axes>"
      ]
     },
     "metadata": {
      "needs_background": "light"
     },
     "output_type": "display_data"
    }
   ],
   "source": [
    "# ajouter la column des perruches à collier à la moyenne par mois\n",
    "moyenne_par_mois_plus_perruches = pd.concat([moyenne_par_mois, observation_perruches['Perruche à collier']], axis=1)\n",
    "# Changer les valeurs au nom des mois qui est le contenu de la colonne 'Mois'\n",
    "moyenne_par_mois_plus_perruches.index = data['Mois']\n",
    "\n",
    "moyenne_par_mois_plus_perruches.boxplot()\n",
    "moyenne_par_mois_plus_perruches.plot()"
   ]
  },
  {
   "attachments": {},
   "cell_type": "markdown",
   "metadata": {},
   "source": [
    "### Comprarer les deux courbes \n",
    "TODO: Commentaires sur les deux courbes.\n",
    "on remarque que les deux courbes sont très proches. \n",
    "En revanche on voit qu'au mois d'août il y a une différence entre les deux courbes.\n",
    "On peut donc en déduire que les perruches à collier sont moins présentes au mois d'août.\n",
    "Pourquoi ?\n",
    "- Les perruches à collier sont en vacances.\n"
   ]
  },
  {
   "cell_type": "code",
   "execution_count": 127,
   "metadata": {},
   "outputs": [
    {
     "name": "stdout",
     "output_type": "stream",
     "text": [
      "Correlation entre perruche et chaque autre espèce:\n",
      " Corneille noire           0.620783\n",
      "Geai des chênes           0.239133\n",
      "Grimpereau des jardins    0.543741\n",
      "Merle noir                0.657924\n",
      "Mésange bleue             0.722741\n",
      "Mésange charbonnière      0.753500\n",
      "Pie bavarde               0.738454\n",
      "Pigeon biset              0.258755\n",
      "Pigeon ramier             0.641700\n",
      "Rougegorge familier       0.590548\n",
      "Troglodyte mignon         0.643477\n",
      "dtype: float64\n"
     ]
    },
    {
     "name": "stderr",
     "output_type": "stream",
     "text": [
      "C:\\Users\\Hadouin\\AppData\\Local\\Temp\\ipykernel_27800\\2219495563.py:2: FutureWarning: The default value of numeric_only in DataFrame.corrwith is deprecated. In a future version, it will default to False. Select only valid columns or specify the value of numeric_only to silence this warning.\n",
      "  correlation_perruche = data_sans_zeros.corrwith(data_sans_zeros['Perruche à collier'])\n"
     ]
    }
   ],
   "source": [
    "# Correlation entre perruche et chaque autre espèce\n",
    "correlation_perruche = data_sans_zeros.corrwith(data_sans_zeros['Perruche à collier'])\n",
    "correlation_perruche = correlation_perruche.drop(['Perruche à collier'])\n",
    "print(\"Correlation entre perruche et chaque autre espèce:\\n\", correlation_perruche)\n"
   ]
  },
  {
   "cell_type": "code",
   "execution_count": 128,
   "metadata": {},
   "outputs": [
    {
     "name": "stdout",
     "output_type": "stream",
     "text": [
      "Espèce avec la plus grande correlation avec les perruches:  Mésange charbonnière avec 0.754 de correlation\n"
     ]
    }
   ],
   "source": [
    "# Max correlation a part les perruches\n",
    "max_correlation = correlation_perruche.max()\n",
    "max_correlation_species = correlation_perruche.idxmax()\n",
    "print(\"Espèce avec la plus grande correlation avec les perruches: \", max_correlation_species, \"avec {0:.3f}\".format(max_correlation), \"de correlation\")"
   ]
  },
  {
   "cell_type": "code",
   "execution_count": 129,
   "metadata": {},
   "outputs": [
    {
     "name": "stdout",
     "output_type": "stream",
     "text": [
      "Espèce avec la plus petite correlation avec les perruches:  Geai des chênes avec 0.239 de correlation\n"
     ]
    }
   ],
   "source": [
    "# Min correlation a part les perruches\n",
    "min_correlation = correlation_perruche.min()\n",
    "min_correlation_species = correlation_perruche.idxmin()\n",
    "print(\"Espèce avec la plus petite correlation avec les perruches: \", min_correlation_species, \"avec {0:.3f}\".format(min_correlation), \"de correlation\")"
   ]
  },
  {
   "cell_type": "code",
   "execution_count": 162,
   "metadata": {},
   "outputs": [
    {
     "data": {
      "text/plain": [
       "<matplotlib.legend.Legend at 0x2135a2b8370>"
      ]
     },
     "execution_count": 162,
     "metadata": {},
     "output_type": "execute_result"
    },
    {
     "data": {
      "image/png": "[encoded data removed]",
      "text/plain": [
       "<Figure size 432x288 with 1 Axes>"
      ]
     },
     "metadata": {
      "needs_background": "light"
     },
     "output_type": "display_data"
    }
   ],
   "source": [
    "import matplotlib.pyplot as plt\n",
    "import matplotlib.patches as mpatches\n",
    "\n",
    "fig, ax = plt.subplots()\n",
    "couleurs = ['red', 'green', 'blue', 'yellow', 'orange', 'purple', 'pink', 'brown', 'black', 'grey', 'cyan', 'magenta']\n",
    "\n",
    "# Pour chaque mois creer un patch de legende\n",
    "patches = []\n",
    "for i in range(len(data['Mois'])):\n",
    "    patches.append(mpatches.Patch(color=couleurs[i], label=data['Mois'][i]))\n",
    "\n",
    "donnees_selectionnees = data[['Mois', 'Perruche à collier', max_correlation_species, min_correlation_species]]\n",
    "\n",
    "ax.scatter(x='Perruche à collier', y=max_correlation_species, c=couleurs, data=donnees_selectionnees)\n",
    "ax.scatter(x='Perruche à collier', y=min_correlation_species, c=couleurs, data=donnees_selectionnees, marker='x')\n",
    "legend1 = ax.legend([max_correlation_species, min_correlation_species], loc='upper left');\n",
    "plt.gca().add_artist(legend1)\n",
    "\n",
    "\n",
    "ax.legend(handles=patches, bbox_to_anchor=(1, 1))"
   ]
  }
 ],
 "metadata": {
  "kernelspec": {
   "display_name": "Python 3",
   "language": "python",
   "name": "python3"
  },
  "language_info": {
   "codemirror_mode": {
    "name": "ipython",
    "version": 3
   },
   "file_extension": ".py",
   "mimetype": "text/x-python",
   "name": "python",
   "nbconvert_exporter": "python",
   "pygments_lexer": "ipython3",
   "version": "3.10.9"
  },
  "orig_nbformat": 4
 },
 "nbformat": 4,
 "nbformat_minor": 2
}
